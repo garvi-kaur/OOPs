{
  "nbformat": 4,
  "nbformat_minor": 0,
  "metadata": {
    "colab": {
      "provenance": []
    },
    "kernelspec": {
      "name": "python3",
      "display_name": "Python 3"
    },
    "language_info": {
      "name": "python"
    }
  },
  "cells": [
    {
      "cell_type": "markdown",
      "source": [
        "**OOPs**"
      ],
      "metadata": {
        "id": "AX7Tgeg9ct74"
      }
    },
    {
      "cell_type": "markdown",
      "source": [
        "#1. What is Object-Oriented Programming (OOP)?\n",
        "\n",
        "OOP is a programming paradigm centered around objects which bundle data (attributes) and behavior (methods). It emphasizes modularity, reusability, and real-world modeling using classes, objects, inheritance, encapsulation, abstraction, and polymorphism.\n",
        "\n"
      ],
      "metadata": {
        "id": "netF4VW8ct-r"
      }
    },
    {
      "cell_type": "markdown",
      "source": [
        "#2. What is a class in OOP?\n",
        "\n",
        "A class is a blueprint for creating objects. It defines a set of attributes and methods that determine the behavior and state of its objects."
      ],
      "metadata": {
        "id": "_9UwQQdbcuBt"
      }
    },
    {
      "cell_type": "markdown",
      "source": [
        "#3. What is an object in OOP?\n",
        "\n",
        "An object is an instance of a class. It is a real-world entity with a specific state and behavior, defined by the class."
      ],
      "metadata": {
        "id": "6WrWp0cIcuDT"
      }
    },
    {
      "cell_type": "markdown",
      "source": [
        "#4. What is the difference between abstraction and encapsulation?\n",
        "\n",
        "Abstraction hides internal details and shows only essential features to the user.\n",
        "\n",
        "Encapsulation hides the internal state of an object and requires all interaction to be performed through an object’s methods.\n",
        "\n"
      ],
      "metadata": {
        "id": "D1HqxEp2cuH0"
      }
    },
    {
      "cell_type": "markdown",
      "source": [
        "#5. What are dunder methods in Python?\n",
        "Dunder (double underscore) methods are special methods like __init__, __str__, __repr__ that Python uses to perform operator overloading and built-in behaviors.\n",
        "\n"
      ],
      "metadata": {
        "id": "Idhol1G6cuJ0"
      }
    },
    {
      "cell_type": "markdown",
      "source": [
        "#6. Explain the concept of inheritance in OOP.\n",
        "Inheritance allows a class (child) to acquire the properties and behaviors (methods and attributes) of another class (parent). It promotes code reuse and a hierarchical class structure.\n",
        "\n"
      ],
      "metadata": {
        "id": "vDAWriGkcuNh"
      }
    },
    {
      "cell_type": "markdown",
      "source": [
        "#7. What is polymorphism in OOP?\n",
        "Polymorphism allows methods to perform different functions based on the object or context, even though they share the same name. Example: len() works on both strings and lists.\n",
        "\n"
      ],
      "metadata": {
        "id": "Ii8l064DcuPb"
      }
    },
    {
      "cell_type": "markdown",
      "source": [
        "#8. How is encapsulation achieved in Python?\n",
        "Encapsulation is achieved using private (_var, __var) variables and public getter/setter methods to control access and modification of object data.\n",
        "\n"
      ],
      "metadata": {
        "id": "3qLY69AbcuTT"
      }
    },
    {
      "cell_type": "markdown",
      "source": [
        "#9. What is a constructor in Python?\n",
        "A constructor is a special method __init__() used to initialize objects of a class with default or user-provided values.\n",
        "\n"
      ],
      "metadata": {
        "id": "ZzhWVHQIcuV3"
      }
    },
    {
      "cell_type": "markdown",
      "source": [
        "#10. What are class and static methods in Python?\n",
        "\n",
        "Class methods use @classmethod and take cls as their first argument; they operate on the class itself.\n",
        "\n",
        "Static methods use @staticmethod and don’t take self or cls; they behave like regular functions inside a class.\n",
        "\n"
      ],
      "metadata": {
        "id": "e2yySHzmcuZC"
      }
    },
    {
      "cell_type": "markdown",
      "source": [
        "#11. What is method overloading in Python?\n",
        "Python doesn’t support method overloading traditionally. However, you can mimic it using default arguments or *args, **kwargs.\n",
        "\n"
      ],
      "metadata": {
        "id": "QiZwcnd1cubJ"
      }
    },
    {
      "cell_type": "markdown",
      "source": [
        "#12. What is method overriding in OOP?\n",
        "Method overriding allows a subclass to provide a specific implementation of a method already defined in its superclass."
      ],
      "metadata": {
        "id": "xymr8-4OdhzC"
      }
    },
    {
      "cell_type": "markdown",
      "source": [
        "#13. What is a property decorator in Python?\n",
        "The @property decorator is used to define getter methods, turning a method into a readable attribute. It enables controlled access to private data.\n",
        "\n"
      ],
      "metadata": {
        "id": "ZlG8CDSmdiDS"
      }
    },
    {
      "cell_type": "markdown",
      "source": [
        "#14. Why is polymorphism important in OOP?\n",
        "Polymorphism increases code flexibility, scalability, and reusability by allowing the same interface to behave differently depending on the object.\n",
        "\n"
      ],
      "metadata": {
        "id": "BVvU0UHWdiV5"
      }
    },
    {
      "cell_type": "markdown",
      "source": [
        "#15. What is an abstract class in Python?\n",
        "An abstract class is a class that cannot be instantiated. It can contain abstract methods (using @abstractmethod) that must be implemented by subclasses. Defined using abc module.\n",
        "\n"
      ],
      "metadata": {
        "id": "WfOOzKkfdiiq"
      }
    },
    {
      "cell_type": "markdown",
      "source": [
        "#16. What are the advantages of OOP?\n",
        "\n",
        "Code reusability through inheritance\n",
        "\n",
        "Modularity through classes\n",
        "\n",
        "Improved debugging and maintenance\n",
        "\n",
        "Real-world modeling\n",
        "\n",
        "Enhanced security through encapsulation"
      ],
      "metadata": {
        "id": "kiwmZlnUdiwB"
      }
    },
    {
      "cell_type": "markdown",
      "source": [
        "#17. What is the difference between a class variable and an instance variable?\n",
        "\n",
        "Class variables are shared across all instances of the class.\n",
        "\n",
        "Instance variables are unique to each object."
      ],
      "metadata": {
        "id": "YPGp3ghWdi7z"
      }
    },
    {
      "cell_type": "markdown",
      "source": [
        "#18. What is multiple inheritance in Python?\n",
        "Multiple inheritance allows a class to inherit attributes and methods from more than one parent class.\n",
        "\n",
        "\n",
        "\n"
      ],
      "metadata": {
        "id": "5LJ6qx2CdjI0"
      }
    },
    {
      "cell_type": "markdown",
      "source": [
        "#19. Explain the purpose of __str__ and __repr__ methods in Python.\n",
        "\n",
        "__str__ defines the human-readable representation of an object (used with print).\n",
        "\n",
        "__repr__ defines the developer-friendly representation (used in the shell or with repr()).\n",
        "\n"
      ],
      "metadata": {
        "id": "PGwBgulqdjVi"
      }
    },
    {
      "cell_type": "markdown",
      "source": [
        "#20. What is the significance of the super() function in Python?\n",
        "super() allows you to call methods from a parent class in a subclass, enabling reuse and proper method resolution in inheritance."
      ],
      "metadata": {
        "id": "GeUWT-yxdjpf"
      }
    },
    {
      "cell_type": "markdown",
      "source": [
        "#21. What is the significance of the __del__ method in Python?\n",
        "__del__ is a destructor method automatically invoked when an object is about to be destroyed. It is used for cleanup operations."
      ],
      "metadata": {
        "id": "wAgAr1Qrdj28"
      }
    },
    {
      "cell_type": "markdown",
      "source": [
        "#22. What is the difference between @staticmethod and @classmethod in Python?\n",
        "\n",
        "@staticmethod: Doesn’t take self or cls. Works like a regular function.\n",
        "\n",
        "@classmethod: Takes cls as its first parameter and works with the class itself, not instance.\n",
        "\n"
      ],
      "metadata": {
        "id": "BK_5liRvdkD-"
      }
    },
    {
      "cell_type": "markdown",
      "source": [
        "#23. How does polymorphism work in Python with inheritance?\n",
        "In inheritance, polymorphism allows a subclass to override methods of the parent class, enabling different behaviors for the same method across classes."
      ],
      "metadata": {
        "id": "dOQ26ut-dkPB"
      }
    },
    {
      "cell_type": "markdown",
      "source": [
        "#24. What is method chaining in Python OOP?\n",
        "Method chaining is a technique where multiple methods are called on the same object in a single line, by returning self from each method.\n",
        "\n"
      ],
      "metadata": {
        "id": "Kx3hwojZdkcT"
      }
    },
    {
      "cell_type": "markdown",
      "source": [
        "#25. What is the purpose of the __call__ method in Python?\n",
        "The __call__ method allows an object to be called like a function. Defining this method makes instances of a class callable.\n",
        "\n"
      ],
      "metadata": {
        "id": "ZHqAPhVhdkpK"
      }
    },
    {
      "cell_type": "code",
      "source": [
        "#1. Create a parent class Animal with a method speak() that prints a generic message. Create a child class Dog that overrides the speak() method to print \"Bark!\".\n",
        "\n",
        "class Animal:\n",
        "    def speak(self):\n",
        "        print(\"This is a generic animal.\")\n",
        "\n",
        "class Dog(Animal):\n",
        "    def speak(self):\n",
        "        print(\"Bark!\")\n",
        "\n",
        "a = Animal()\n",
        "a.speak()\n",
        "d = Dog()\n",
        "d.speak()\n"
      ],
      "metadata": {
        "colab": {
          "base_uri": "https://localhost:8080/"
        },
        "id": "fUoYrhfeegEN",
        "outputId": "bb2f5591-fd87-4485-8a6b-046b38ec1907"
      },
      "execution_count": 1,
      "outputs": [
        {
          "output_type": "stream",
          "name": "stdout",
          "text": [
            "This is a generic animal.\n",
            "Bark!\n"
          ]
        }
      ]
    },
    {
      "cell_type": "code",
      "source": [
        "#2. Write a program to create an abstract class Shape with a method area(). Derive classes Circle and Rectangle from it and implement the area() method in both.\n",
        "\n",
        "\n",
        "from abc import ABC, abstractmethod\n",
        "\n",
        "class Shape(ABC):\n",
        "    @abstractmethod\n",
        "    def area(self):\n",
        "        pass\n",
        "\n",
        "class Circle(Shape):\n",
        "    def __init__(self, radius):\n",
        "        self.radius = radius\n",
        "\n",
        "    def area(self):\n",
        "        return 3.14 * self.radius ** 2\n",
        "\n",
        "class Rectangle(Shape):\n",
        "    def __init__(self, length, width):\n",
        "        self.length = length\n",
        "        self.width = width\n",
        "\n",
        "    def area(self):\n",
        "        return self.length * self.width\n",
        "\n",
        "c = Circle(5)\n",
        "r = Rectangle(4, 6)\n",
        "print(\"Circle Area:\", c.area())\n",
        "print(\"Rectangle Area:\", r.area())\n"
      ],
      "metadata": {
        "colab": {
          "base_uri": "https://localhost:8080/"
        },
        "id": "CUiYLbdsegkr",
        "outputId": "faf7f3bc-08ca-40ed-89f2-0b50d7fab332"
      },
      "execution_count": 2,
      "outputs": [
        {
          "output_type": "stream",
          "name": "stdout",
          "text": [
            "Circle Area: 78.5\n",
            "Rectangle Area: 24\n"
          ]
        }
      ]
    },
    {
      "cell_type": "code",
      "source": [
        "#3. Implement a multi-level inheritance scenario where a class Vehicle has an attribute type. Derive a class Car and further derive a class ElectricCar that adds a battery attribute.\n",
        "\n",
        "class Vehicle:\n",
        "    def __init__(self, vehicle_type):\n",
        "        self.type = vehicle_type\n",
        "\n",
        "class Car(Vehicle):\n",
        "    def __init__(self, vehicle_type, brand):\n",
        "        super().__init__(vehicle_type)\n",
        "        self.brand = brand\n",
        "\n",
        "class ElectricCar(Car):\n",
        "    def __init__(self, vehicle_type, brand, battery):\n",
        "        super().__init__(vehicle_type, brand)\n",
        "        self.battery = battery\n",
        "\n",
        "ec = ElectricCar(\"Four-Wheeler\", \"Tesla\", \"85 kWh\")\n",
        "print(ec.type, ec.brand, ec.battery)\n"
      ],
      "metadata": {
        "colab": {
          "base_uri": "https://localhost:8080/"
        },
        "id": "NAlfXFq3eg7K",
        "outputId": "740e3c72-9626-4799-dc44-c9bb7a548649"
      },
      "execution_count": 3,
      "outputs": [
        {
          "output_type": "stream",
          "name": "stdout",
          "text": [
            "Four-Wheeler Tesla 85 kWh\n"
          ]
        }
      ]
    },
    {
      "cell_type": "code",
      "source": [
        "#4. Demonstrate polymorphism by creating a base class Bird with a method fly(). Create two derived classes Sparrow and Penguin that override the fly() method.\n",
        "\n",
        "class Bird:\n",
        "    def fly(self):\n",
        "        print(\"Some birds can fly.\")\n",
        "\n",
        "class Sparrow(Bird):\n",
        "    def fly(self):\n",
        "        print(\"Sparrow flies high.\")\n",
        "\n",
        "class Penguin(Bird):\n",
        "    def fly(self):\n",
        "        print(\"Penguins can't fly!\")\n",
        "\n",
        "birds = [Sparrow(), Penguin()]\n",
        "for bird in birds:\n",
        "    bird.fly()"
      ],
      "metadata": {
        "colab": {
          "base_uri": "https://localhost:8080/"
        },
        "id": "lCSz05FWehI4",
        "outputId": "ce9d7f1c-0751-48f8-8218-8bfa2ca28ed1"
      },
      "execution_count": 4,
      "outputs": [
        {
          "output_type": "stream",
          "name": "stdout",
          "text": [
            "Sparrow flies high.\n",
            "Penguins can't fly!\n"
          ]
        }
      ]
    },
    {
      "cell_type": "code",
      "source": [
        "#5. Write a program to demonstrate encapsulation by creating a class BankAccount with private attributes balance and methods to deposit(), withdraw(), and check balance().\n",
        "\n",
        "class BankAccount:\n",
        "    def __init__(self):\n",
        "        self.__balance = 0\n",
        "\n",
        "    def deposit(self, amount):\n",
        "        self.__balance += amount\n",
        "\n",
        "    def withdraw(self, amount):\n",
        "        if amount <= self.__balance:\n",
        "            self.__balance -= amount\n",
        "        else:\n",
        "            print(\"Insufficient balance!\")\n",
        "\n",
        "    def get_balance(self):\n",
        "        return self.__balance\n",
        "\n",
        "acc = BankAccount()\n",
        "acc.deposit(500)\n",
        "acc.withdraw(200)\n",
        "print(\"Balance:\", acc.get_balance())"
      ],
      "metadata": {
        "colab": {
          "base_uri": "https://localhost:8080/"
        },
        "id": "SAlr2INpehWF",
        "outputId": "aefdbf01-e90f-4769-fa06-1edbee39196d"
      },
      "execution_count": 5,
      "outputs": [
        {
          "output_type": "stream",
          "name": "stdout",
          "text": [
            "Balance: 300\n"
          ]
        }
      ]
    },
    {
      "cell_type": "code",
      "source": [
        "#6. Demonstrate runtime polymorphism using a method play() in a base class Instrument. Derive classes Guitar and Piano that implement their own version of play().\n",
        "\n",
        "class Instrument:\n",
        "    def play(self):\n",
        "        print(\"Playing an instrument.\")\n",
        "\n",
        "class Guitar(Instrument):\n",
        "    def play(self):\n",
        "        print(\"Strumming the guitar.\")\n",
        "\n",
        "class Piano(Instrument):\n",
        "    def play(self):\n",
        "        print(\"Playing the piano.\")\n",
        "\n",
        "for instr in [Guitar(), Piano()]:\n",
        "    instr.play()"
      ],
      "metadata": {
        "colab": {
          "base_uri": "https://localhost:8080/"
        },
        "id": "CVvfotZFehjG",
        "outputId": "3afa4162-a856-4fcc-cac6-5509630c5b56"
      },
      "execution_count": 6,
      "outputs": [
        {
          "output_type": "stream",
          "name": "stdout",
          "text": [
            "Strumming the guitar.\n",
            "Playing the piano.\n"
          ]
        }
      ]
    },
    {
      "cell_type": "code",
      "source": [
        "#7. Create a class MathOperations with a class method add_numbers() to add two numbers and a static method subtract_numbers() to subtract two numbers.\n",
        "\n",
        "class MathOperations:\n",
        "    @classmethod\n",
        "    def add_numbers(cls, a, b):\n",
        "        return a + b\n",
        "\n",
        "    @staticmethod\n",
        "    def subtract_numbers(a, b):\n",
        "        return a - b\n",
        "\n",
        "print(\"Addition:\", MathOperations.add_numbers(10, 5))\n",
        "print(\"Subtraction:\", MathOperations.subtract_numbers(10, 5))"
      ],
      "metadata": {
        "colab": {
          "base_uri": "https://localhost:8080/"
        },
        "id": "wDoL01MYehvr",
        "outputId": "44a017c7-15a4-47fb-c51c-ca99b80fdfb8"
      },
      "execution_count": 7,
      "outputs": [
        {
          "output_type": "stream",
          "name": "stdout",
          "text": [
            "Addition: 15\n",
            "Subtraction: 5\n"
          ]
        }
      ]
    },
    {
      "cell_type": "code",
      "source": [
        "#8. Implement a class Person with a class method to count the total number of persons created.\n",
        "\n",
        "class Person:\n",
        "    count = 0\n",
        "\n",
        "    def __init__(self, name):\n",
        "        self.name = name\n",
        "        Person.count += 1\n",
        "\n",
        "    @classmethod\n",
        "    def total_persons(cls):\n",
        "        return cls.count\n",
        "\n",
        "p1 = Person(\"Alice\")\n",
        "p2 = Person(\"Bob\")\n",
        "print(\"Total persons:\", Person.total_persons())"
      ],
      "metadata": {
        "colab": {
          "base_uri": "https://localhost:8080/"
        },
        "id": "0KxT4Sobeh8V",
        "outputId": "a9867873-996d-4266-806f-4963cdbb1ce2"
      },
      "execution_count": 8,
      "outputs": [
        {
          "output_type": "stream",
          "name": "stdout",
          "text": [
            "Total persons: 2\n"
          ]
        }
      ]
    },
    {
      "cell_type": "code",
      "source": [
        "#9. Write a class Fraction with attributes numerator and denominator. Override the __str__ method to display the fraction as \"numerator/denominator\".\n",
        "\n",
        "class Fraction:\n",
        "    def __init__(self, num, den):\n",
        "        self.num = num\n",
        "        self.den = den\n",
        "\n",
        "    def __str__(self):\n",
        "        return f\"{self.num}/{self.den}\"\n",
        "\n",
        "f = Fraction(3, 4)\n",
        "print(f)\n"
      ],
      "metadata": {
        "colab": {
          "base_uri": "https://localhost:8080/"
        },
        "id": "zeyTovHUeiIO",
        "outputId": "f6980e6c-0e9c-4802-e7d7-d7e00064e469"
      },
      "execution_count": 9,
      "outputs": [
        {
          "output_type": "stream",
          "name": "stdout",
          "text": [
            "3/4\n"
          ]
        }
      ]
    },
    {
      "cell_type": "code",
      "source": [
        "#10. Demonstrate operator overloading by creating a class Vector and overriding the + method to add two vectors.\n",
        "\n",
        "class Vector:\n",
        "    def __init__(self, x, y):\n",
        "        self.x = x\n",
        "        self.y = y\n",
        "\n",
        "    def __add__(self, other):\n",
        "        return Vector(self.x + other.x, self.y + other.y)\n",
        "\n",
        "    def __str__(self):\n",
        "        return f\"Vector({self.x}, {self.y})\"\n",
        "\n",
        "v1 = Vector(1, 2)\n",
        "v2 = Vector(3, 4)\n",
        "v3 = v1 + v2\n",
        "print(v3)"
      ],
      "metadata": {
        "colab": {
          "base_uri": "https://localhost:8080/"
        },
        "id": "6caq2t9PeiUT",
        "outputId": "512c8af1-0fa2-45ba-dfa6-bceec04e8561"
      },
      "execution_count": 10,
      "outputs": [
        {
          "output_type": "stream",
          "name": "stdout",
          "text": [
            "Vector(4, 6)\n"
          ]
        }
      ]
    },
    {
      "cell_type": "code",
      "source": [
        "#11. Create a class Person with attributes name and age. Add a method greet() that prints \"Hello, my name is {name} and I am {age} years old.\"\n",
        "\n",
        "class Person:\n",
        "    def __init__(self, name, age):\n",
        "        self.name = name\n",
        "        self.age = age\n",
        "\n",
        "    def greet(self):\n",
        "        print(f\"Hello, my name is {self.name} and I am {self.age} years old.\")\n",
        "\n",
        "p = Person(\"Alice\", 25)\n",
        "p.greet()"
      ],
      "metadata": {
        "colab": {
          "base_uri": "https://localhost:8080/"
        },
        "id": "4qtuk3Cmeie6",
        "outputId": "f91ca551-ce1e-4e22-c945-fd5aa0498d8c"
      },
      "execution_count": 17,
      "outputs": [
        {
          "output_type": "stream",
          "name": "stdout",
          "text": [
            "Hello, my name is Alice and I am 25 years old.\n"
          ]
        }
      ]
    },
    {
      "cell_type": "code",
      "source": [
        "#12. Implement a class Student with attributes name and grades. Create a method average_grade() to compute the average of the grades.\n",
        "\n",
        "class Student:\n",
        "    def __init__(self, name, grades):\n",
        "        self.name = name\n",
        "        self.grades = grades\n",
        "\n",
        "    def average_grade(self):\n",
        "        return sum(self.grades) / len(self.grades)\n",
        "\n",
        "s = Student(\"Bob\", [85, 90, 78])\n",
        "print(f\"{s.name}'s average grade: {s.average_grade():.2f}\")"
      ],
      "metadata": {
        "colab": {
          "base_uri": "https://localhost:8080/"
        },
        "id": "2-gmv-82eiqR",
        "outputId": "6e783a86-e7c9-4587-f336-1cd808e4d463"
      },
      "execution_count": 16,
      "outputs": [
        {
          "output_type": "stream",
          "name": "stdout",
          "text": [
            "Bob's average grade: 84.33\n"
          ]
        }
      ]
    },
    {
      "cell_type": "code",
      "source": [
        "#13. Create a class Rectangle with methods set_dimensions() to set the dimensions and area() to calculate the area.\n",
        "\n",
        "\n",
        "class Rectangle:\n",
        "    def set_dimensions(self, length, width):\n",
        "        self.length = length\n",
        "        self.width = width\n",
        "\n",
        "    def area(self):\n",
        "        return self.length * self.width\n",
        "\n",
        "r = Rectangle()\n",
        "r.set_dimensions(5, 3)\n",
        "print(\"Area of rectangle:\", r.area())"
      ],
      "metadata": {
        "colab": {
          "base_uri": "https://localhost:8080/"
        },
        "id": "jZ7q6nLmei12",
        "outputId": "53798895-b124-4505-8137-4cf44a80f45e"
      },
      "execution_count": 18,
      "outputs": [
        {
          "output_type": "stream",
          "name": "stdout",
          "text": [
            "Area of rectangle: 15\n"
          ]
        }
      ]
    },
    {
      "cell_type": "code",
      "source": [
        "#14. Create a class Employee with a method calculate_salary() that computes the salary based on hours worked and hourly rate. Create a derived class Manager that adds a bonus to the salary.\n",
        "\n",
        "class Employee:\n",
        "    def __init__(self, hours, rate):\n",
        "        self.hours = hours\n",
        "        self.rate = rate\n",
        "\n",
        "    def calculate_salary(self):\n",
        "        return self.hours * self.rate\n",
        "\n",
        "class Manager(Employee):\n",
        "    def __init__(self, hours, rate, bonus):\n",
        "        super().__init__(hours, rate)\n",
        "        self.bonus = bonus\n",
        "\n",
        "    def calculate_salary(self):\n",
        "        return super().calculate_salary() + self.bonus\n",
        "\n",
        "e = Employee(40, 20)\n",
        "m = Manager(40, 20, 300)\n",
        "print(\"Employee Salary:\", e.calculate_salary())\n",
        "print(\"Manager Salary:\", m.calculate_salary())"
      ],
      "metadata": {
        "colab": {
          "base_uri": "https://localhost:8080/"
        },
        "id": "jDvwKUKYejBo",
        "outputId": "683557be-4627-406a-c2a0-8e9f8ebe4c2e"
      },
      "execution_count": 19,
      "outputs": [
        {
          "output_type": "stream",
          "name": "stdout",
          "text": [
            "Employee Salary: 800\n",
            "Manager Salary: 1100\n"
          ]
        }
      ]
    },
    {
      "cell_type": "code",
      "source": [
        "#15. Create a class Product with attributes name, price, and quantity. Implement a method total_price() that calculates the total price of the product.\n",
        "\n",
        "class Product:\n",
        "    def __init__(self, name, price, quantity):\n",
        "        self.name = name\n",
        "        self.price = price\n",
        "        self.quantity = quantity\n",
        "\n",
        "    def total_price(self):\n",
        "        return self.price * self.quantity\n",
        "\n",
        "p = Product(\"Pen\", 5, 10)\n",
        "print(f\"Total price of {p.name}: ₹{p.total_price()}\")"
      ],
      "metadata": {
        "colab": {
          "base_uri": "https://localhost:8080/"
        },
        "id": "L51n-rZAejMu",
        "outputId": "220e4d12-7b72-4056-b60b-588d88f78eaa"
      },
      "execution_count": 20,
      "outputs": [
        {
          "output_type": "stream",
          "name": "stdout",
          "text": [
            "Total price of Pen: ₹50\n"
          ]
        }
      ]
    },
    {
      "cell_type": "code",
      "source": [
        "#16. Create a class Animal with an abstract method sound(). Create two derived classes Cow and Sheep that implement the sound() method.\n",
        "\n",
        "from abc import ABC, abstractmethod\n",
        "\n",
        "class Animal(ABC):\n",
        "    @abstractmethod\n",
        "    def sound(self):\n",
        "        pass\n",
        "\n",
        "class Cow(Animal):\n",
        "    def sound(self):\n",
        "        print(\"Moo\")\n",
        "\n",
        "class Sheep(Animal):\n",
        "    def sound(self):\n",
        "        print(\"Baa\")\n",
        "\n",
        "c = Cow()\n",
        "s = Sheep()\n",
        "c.sound()\n",
        "s.sound()\n"
      ],
      "metadata": {
        "colab": {
          "base_uri": "https://localhost:8080/"
        },
        "id": "zfIwALJjejY6",
        "outputId": "f877ddc3-79ba-4742-a61f-21a8f67be3c1"
      },
      "execution_count": 21,
      "outputs": [
        {
          "output_type": "stream",
          "name": "stdout",
          "text": [
            "Moo\n",
            "Baa\n"
          ]
        }
      ]
    },
    {
      "cell_type": "code",
      "source": [
        "#17. Create a class Book with attributes title, author, and year_published. Add a method get_book_info() that returns a formatted string with the book's details.\n",
        "\n",
        "class Book:\n",
        "    def __init__(self, title, author, year_published):\n",
        "        self.title = title\n",
        "        self.author = author\n",
        "        self.year_published = year_published\n",
        "\n",
        "    def get_book_info(self):\n",
        "        return f\"{self.title} by {self.author}, published in {self.year_published}\"\n",
        "\n",
        "b = Book(\"Atomic Habits\", \"James Clear\", 2018)\n",
        "print(b.get_book_info())"
      ],
      "metadata": {
        "colab": {
          "base_uri": "https://localhost:8080/"
        },
        "id": "geNjOVmDejj8",
        "outputId": "fb2ca4d4-e51c-47b7-8a6a-105fc028d15d"
      },
      "execution_count": 22,
      "outputs": [
        {
          "output_type": "stream",
          "name": "stdout",
          "text": [
            "Atomic Habits by James Clear, published in 2018\n"
          ]
        }
      ]
    },
    {
      "cell_type": "code",
      "source": [
        "#18. Create a class House with attributes address and price. Create a derived class Mansion that adds an attribute number_of_rooms.\n",
        "\n",
        "class House:\n",
        "    def __init__(self, address, price):\n",
        "        self.address = address\n",
        "        self.price = price\n",
        "\n",
        "class Mansion(House):\n",
        "    def __init__(self, address, price, number_of_rooms):\n",
        "        super().__init__(address, price)\n",
        "        self.number_of_rooms = number_of_rooms\n",
        "\n",
        "m = Mansion(\"123 Elite Street\", 5000000, 12)\n",
        "print(f\"Address: {m.address}, Price: ₹{m.price}, Rooms: {m.number_of_rooms}\")"
      ],
      "metadata": {
        "colab": {
          "base_uri": "https://localhost:8080/"
        },
        "id": "rTPyMo0GejuF",
        "outputId": "9832fa9e-556a-40db-fb8a-b5d10e5083aa"
      },
      "execution_count": 23,
      "outputs": [
        {
          "output_type": "stream",
          "name": "stdout",
          "text": [
            "Address: 123 Elite Street, Price: ₹5000000, Rooms: 12\n"
          ]
        }
      ]
    }
  ]
}